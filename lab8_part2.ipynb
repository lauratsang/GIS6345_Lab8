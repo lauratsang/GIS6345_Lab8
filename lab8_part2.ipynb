{
 "cells": [
  {
   "cell_type": "code",
   "execution_count": 2,
   "metadata": {},
   "outputs": [
    {
     "data": {
      "text/html": [
       "<div>\n",
       "<style scoped>\n",
       "    .dataframe tbody tr th:only-of-type {\n",
       "        vertical-align: middle;\n",
       "    }\n",
       "\n",
       "    .dataframe tbody tr th {\n",
       "        vertical-align: top;\n",
       "    }\n",
       "\n",
       "    .dataframe thead th {\n",
       "        text-align: right;\n",
       "    }\n",
       "</style>\n",
       "<table border=\"1\" class=\"dataframe\">\n",
       "  <thead>\n",
       "    <tr style=\"text-align: right;\">\n",
       "      <th></th>\n",
       "      <th>STAID</th>\n",
       "      <th>STATE</th>\n",
       "      <th>FIPS</th>\n",
       "      <th>LAT_DMS_</th>\n",
       "      <th>LON_DMS</th>\n",
       "      <th>WELLDPTH_</th>\n",
       "      <th>SAMPDATE_</th>\n",
       "      <th>SAMPTIME</th>\n",
       "      <th>AS_RMRK</th>\n",
       "      <th>AS_CONC</th>\n",
       "      <th>LAT_DD</th>\n",
       "      <th>LON_DD</th>\n",
       "      <th>geometry</th>\n",
       "    </tr>\n",
       "  </thead>\n",
       "  <tbody>\n",
       "    <tr>\n",
       "      <th>0</th>\n",
       "      <td>182113064451900</td>\n",
       "      <td>VI</td>\n",
       "      <td>78020</td>\n",
       "      <td>182113</td>\n",
       "      <td>644519</td>\n",
       "      <td>100.0</td>\n",
       "      <td>1992-08-31</td>\n",
       "      <td>00:00:00</td>\n",
       "      <td>&lt;</td>\n",
       "      <td>1.0</td>\n",
       "      <td>18.3536</td>\n",
       "      <td>-64.7553</td>\n",
       "      <td>POINT (3367440.052 58343.889)</td>\n",
       "    </tr>\n",
       "    <tr>\n",
       "      <th>1</th>\n",
       "      <td>182109064460300</td>\n",
       "      <td>VI</td>\n",
       "      <td>78020</td>\n",
       "      <td>182109</td>\n",
       "      <td>644603</td>\n",
       "      <td>60.0</td>\n",
       "      <td>1992-08-26</td>\n",
       "      <td>00:00:00</td>\n",
       "      <td>&lt;</td>\n",
       "      <td>1.0</td>\n",
       "      <td>18.3525</td>\n",
       "      <td>-64.7675</td>\n",
       "      <td>POINT (3366208.688 57799.075)</td>\n",
       "    </tr>\n",
       "    <tr>\n",
       "      <th>2</th>\n",
       "      <td>180859065474100</td>\n",
       "      <td>PR</td>\n",
       "      <td>72069</td>\n",
       "      <td>180859</td>\n",
       "      <td>654741</td>\n",
       "      <td>0.0</td>\n",
       "      <td>1982-07-07</td>\n",
       "      <td>00:00:00</td>\n",
       "      <td>&lt;</td>\n",
       "      <td>1.0</td>\n",
       "      <td>18.1497</td>\n",
       "      <td>-65.7947</td>\n",
       "      <td>POINT (3266068.416 1466.848)</td>\n",
       "    </tr>\n",
       "    <tr>\n",
       "      <th>3</th>\n",
       "      <td>180339065523300</td>\n",
       "      <td>PR</td>\n",
       "      <td>72151</td>\n",
       "      <td>180339</td>\n",
       "      <td>655233</td>\n",
       "      <td>120.0</td>\n",
       "      <td>1982-07-07</td>\n",
       "      <td>00:00:00</td>\n",
       "      <td>&lt;</td>\n",
       "      <td>1.0</td>\n",
       "      <td>18.0608</td>\n",
       "      <td>-65.8758</td>\n",
       "      <td>POINT (3260544.627 -10310.268)</td>\n",
       "    </tr>\n",
       "    <tr>\n",
       "      <th>4</th>\n",
       "      <td>175836066021400</td>\n",
       "      <td>PR</td>\n",
       "      <td>72015</td>\n",
       "      <td>175836</td>\n",
       "      <td>660214</td>\n",
       "      <td>0.0</td>\n",
       "      <td>1986-08-12</td>\n",
       "      <td>00:00:00</td>\n",
       "      <td>&lt;</td>\n",
       "      <td>1.0</td>\n",
       "      <td>17.9767</td>\n",
       "      <td>-66.0372</td>\n",
       "      <td>POINT (3246438.827 -24348.955)</td>\n",
       "    </tr>\n",
       "  </tbody>\n",
       "</table>\n",
       "</div>"
      ],
      "text/plain": [
       "             STAID STATE   FIPS  LAT_DMS_  LON_DMS  WELLDPTH_   SAMPDATE_  \\\n",
       "0  182113064451900    VI  78020    182113   644519      100.0  1992-08-31   \n",
       "1  182109064460300    VI  78020    182109   644603       60.0  1992-08-26   \n",
       "2  180859065474100    PR  72069    180859   654741        0.0  1982-07-07   \n",
       "3  180339065523300    PR  72151    180339   655233      120.0  1982-07-07   \n",
       "4  175836066021400    PR  72015    175836   660214        0.0  1986-08-12   \n",
       "\n",
       "   SAMPTIME AS_RMRK  AS_CONC   LAT_DD   LON_DD                        geometry  \n",
       "0  00:00:00       <      1.0  18.3536 -64.7553   POINT (3367440.052 58343.889)  \n",
       "1  00:00:00       <      1.0  18.3525 -64.7675   POINT (3366208.688 57799.075)  \n",
       "2  00:00:00       <      1.0  18.1497 -65.7947    POINT (3266068.416 1466.848)  \n",
       "3  00:00:00       <      1.0  18.0608 -65.8758  POINT (3260544.627 -10310.268)  \n",
       "4  00:00:00       <      1.0  17.9767 -66.0372  POINT (3246438.827 -24348.955)  "
      ]
     },
     "execution_count": 2,
     "metadata": {},
     "output_type": "execute_result"
    }
   ],
   "source": [
    "import geopandas as gpd\n",
    "import os\n",
    "os.chdir('/Users/lauratsang/Documents/CPS NEU GIS/GIS6345/Lab 8/arsenic_nov2001_shp')\n",
    "\n",
    "gdf = gpd.read_file('arsenic_nov2001.shp')\n",
    "\n",
    "gdf.head(n=5)"
   ]
  },
  {
   "cell_type": "code",
   "execution_count": 7,
   "metadata": {},
   "outputs": [
    {
     "data": {
      "text/plain": [
       "'\\nCreates a scatter plot with arsenic concentrations on the x-axis and well depths on the y-axis.\\n'"
      ]
     },
     "execution_count": 7,
     "metadata": {},
     "output_type": "execute_result"
    },
    {
     "data": {
      "image/png": "[encoded data removed]",
      "text/plain": [
       "<Figure size 640x480 with 1 Axes>"
      ]
     },
     "metadata": {},
     "output_type": "display_data"
    }
   ],
   "source": [
    "import numpy as np\n",
    "import matplotlib.pyplot as plt\n",
    "\n",
    "x, y = gdf['AS_CONC'],gdf['WELLDPTH_']\n",
    "\n",
    "plt.scatter(x, y, c='green')\n",
    "\n",
    "'''\n",
    "Creates a scatter plot with arsenic concentrations on the x-axis and well depths on the y-axis.\n",
    "'''"
   ]
  },
  {
   "cell_type": "code",
   "execution_count": null,
   "metadata": {},
   "outputs": [],
   "source": []
  }
 ],
 "metadata": {
  "kernelspec": {
   "display_name": "geo_env",
   "language": "python",
   "name": "geo_env"
  },
  "language_info": {
   "codemirror_mode": {
    "name": "ipython",
    "version": 3
   },
   "file_extension": ".py",
   "mimetype": "text/x-python",
   "name": "python",
   "nbconvert_exporter": "python",
   "pygments_lexer": "ipython3",
   "version": "3.10.6"
  }
 },
 "nbformat": 4,
 "nbformat_minor": 2
}
